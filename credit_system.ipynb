{
 "cells": [
  {
   "cell_type": "code",
   "execution_count": 166,
   "metadata": {},
   "outputs": [],
   "source": [
    "import warnings\n",
    "warnings.filterwarnings('ignore')\n",
    "\n",
    "import pandas as pd\n",
    "import matplotlib.pyplot as plt\n",
    "import numpy as np\n",
    "import matplotlib.pyplot as plt\n",
    "import seaborn as sns\n",
    "import pandas as pd\n",
    "from sklearn.impute import SimpleImputer\n",
    "from sklearn.preprocessing import StandardScaler, LabelEncoder\n",
    "from imblearn.over_sampling import SMOTE\n",
    "\n",
    "# Configurar gráficos en línea\n",
    "%matplotlib inline\n",
    "\n",
    "# Cargar los archivos CSV\n",
    "transactions = pd.read_csv('data/data_BOC_transactions.csv')\n",
    "credit_risk = pd.read_csv('data/data_BOC_creditRisk.csv')\n",
    "fraud_detection = pd.read_csv('data/data_BOC_fraudDetection.csv')\n"
   ]
  },
  {
   "cell_type": "markdown",
   "metadata": {},
   "source": [
    "### data_BOC_transactions.csv"
   ]
  },
  {
   "cell_type": "code",
   "execution_count": 167,
   "metadata": {},
   "outputs": [
    {
     "data": {
      "text/html": [
       "<div>\n",
       "<style scoped>\n",
       "    .dataframe tbody tr th:only-of-type {\n",
       "        vertical-align: middle;\n",
       "    }\n",
       "\n",
       "    .dataframe tbody tr th {\n",
       "        vertical-align: top;\n",
       "    }\n",
       "\n",
       "    .dataframe thead th {\n",
       "        text-align: right;\n",
       "    }\n",
       "</style>\n",
       "<table border=\"1\" class=\"dataframe\">\n",
       "  <thead>\n",
       "    <tr style=\"text-align: right;\">\n",
       "      <th></th>\n",
       "      <th>0</th>\n",
       "      <th>1</th>\n",
       "      <th>2</th>\n",
       "      <th>3</th>\n",
       "      <th>4</th>\n",
       "    </tr>\n",
       "  </thead>\n",
       "  <tbody>\n",
       "    <tr>\n",
       "      <th>TransactionID</th>\n",
       "      <td>T1</td>\n",
       "      <td>T2</td>\n",
       "      <td>T3</td>\n",
       "      <td>T4</td>\n",
       "      <td>T5</td>\n",
       "    </tr>\n",
       "    <tr>\n",
       "      <th>CustomerID</th>\n",
       "      <td>C5841053</td>\n",
       "      <td>C2142763</td>\n",
       "      <td>C4417068</td>\n",
       "      <td>C5342380</td>\n",
       "      <td>C9031234</td>\n",
       "    </tr>\n",
       "    <tr>\n",
       "      <th>CustomerBirth</th>\n",
       "      <td>10/1/94</td>\n",
       "      <td>4/4/57</td>\n",
       "      <td>26/11/96</td>\n",
       "      <td>14/9/73</td>\n",
       "      <td>24/3/88</td>\n",
       "    </tr>\n",
       "    <tr>\n",
       "      <th>CustomerGender</th>\n",
       "      <td>F</td>\n",
       "      <td>M</td>\n",
       "      <td>F</td>\n",
       "      <td>F</td>\n",
       "      <td>F</td>\n",
       "    </tr>\n",
       "    <tr>\n",
       "      <th>TransactionLocation</th>\n",
       "      <td>Viana do Castelo</td>\n",
       "      <td>Coria del Río</td>\n",
       "      <td>Jávea</td>\n",
       "      <td>Córdoba</td>\n",
       "      <td>Sestao</td>\n",
       "    </tr>\n",
       "    <tr>\n",
       "      <th>TransactionDate</th>\n",
       "      <td>2/8/16</td>\n",
       "      <td>2/8/16</td>\n",
       "      <td>2/8/16</td>\n",
       "      <td>2/8/16</td>\n",
       "      <td>2/8/16</td>\n",
       "    </tr>\n",
       "    <tr>\n",
       "      <th>TransactionAmount (eur)</th>\n",
       "      <td>25.0</td>\n",
       "      <td>27999.0</td>\n",
       "      <td>459.0</td>\n",
       "      <td>2060.0</td>\n",
       "      <td>1762.5</td>\n",
       "    </tr>\n",
       "    <tr>\n",
       "      <th>otherActor</th>\n",
       "      <td>C1419665</td>\n",
       "      <td>NaN</td>\n",
       "      <td>C3467392</td>\n",
       "      <td>C6628470</td>\n",
       "      <td>C7321714</td>\n",
       "    </tr>\n",
       "  </tbody>\n",
       "</table>\n",
       "</div>"
      ],
      "text/plain": [
       "                                        0              1         2         3  \\\n",
       "TransactionID                          T1             T2        T3        T4   \n",
       "CustomerID                       C5841053       C2142763  C4417068  C5342380   \n",
       "CustomerBirth                     10/1/94         4/4/57  26/11/96   14/9/73   \n",
       "CustomerGender                          F              M         F         F   \n",
       "TransactionLocation      Viana do Castelo  Coria del Río     Jávea   Córdoba   \n",
       "TransactionDate                    2/8/16         2/8/16    2/8/16    2/8/16   \n",
       "TransactionAmount (eur)              25.0        27999.0     459.0    2060.0   \n",
       "otherActor                       C1419665            NaN  C3467392  C6628470   \n",
       "\n",
       "                                4  \n",
       "TransactionID                  T5  \n",
       "CustomerID               C9031234  \n",
       "CustomerBirth             24/3/88  \n",
       "CustomerGender                  F  \n",
       "TransactionLocation        Sestao  \n",
       "TransactionDate            2/8/16  \n",
       "TransactionAmount (eur)    1762.5  \n",
       "otherActor               C7321714  "
      ]
     },
     "execution_count": 167,
     "metadata": {},
     "output_type": "execute_result"
    }
   ],
   "source": [
    "# Mostrar las primeras filas de cada dataframe\n",
    "transactions.head().T"
   ]
  },
  {
   "cell_type": "code",
   "execution_count": 168,
   "metadata": {},
   "outputs": [
    {
     "name": "stdout",
     "output_type": "stream",
     "text": [
      "Información General de Transacciones:\n",
      "\n",
      "<class 'pandas.core.frame.DataFrame'>\n",
      "RangeIndex: 1048567 entries, 0 to 1048566\n",
      "Data columns (total 8 columns):\n",
      " #   Column                   Non-Null Count    Dtype  \n",
      "---  ------                   --------------    -----  \n",
      " 0   TransactionID            1048567 non-null  object \n",
      " 1   CustomerID               1048567 non-null  object \n",
      " 2   CustomerBirth            1045170 non-null  object \n",
      " 3   CustomerGender           1047467 non-null  object \n",
      " 4   TransactionLocation      1048567 non-null  object \n",
      " 5   TransactionDate          1048567 non-null  object \n",
      " 6   TransactionAmount (eur)  1048567 non-null  float64\n",
      " 7   otherActor               419567 non-null   object \n",
      "dtypes: float64(1), object(7)\n",
      "memory usage: 64.0+ MB\n",
      "None\n"
     ]
    },
    {
     "data": {
      "text/html": [
       "<div>\n",
       "<style scoped>\n",
       "    .dataframe tbody tr th:only-of-type {\n",
       "        vertical-align: middle;\n",
       "    }\n",
       "\n",
       "    .dataframe tbody tr th {\n",
       "        vertical-align: top;\n",
       "    }\n",
       "\n",
       "    .dataframe thead th {\n",
       "        text-align: right;\n",
       "    }\n",
       "</style>\n",
       "<table border=\"1\" class=\"dataframe\">\n",
       "  <thead>\n",
       "    <tr style=\"text-align: right;\">\n",
       "      <th></th>\n",
       "      <th>count</th>\n",
       "      <th>mean</th>\n",
       "      <th>std</th>\n",
       "      <th>min</th>\n",
       "      <th>25%</th>\n",
       "      <th>50%</th>\n",
       "      <th>75%</th>\n",
       "      <th>max</th>\n",
       "    </tr>\n",
       "  </thead>\n",
       "  <tbody>\n",
       "    <tr>\n",
       "      <th>TransactionAmount (eur)</th>\n",
       "      <td>1048567.0</td>\n",
       "      <td>310.396492</td>\n",
       "      <td>6753.475566</td>\n",
       "      <td>-1560034.99</td>\n",
       "      <td>-270.0</td>\n",
       "      <td>100.0</td>\n",
       "      <td>600.0</td>\n",
       "      <td>600008.32</td>\n",
       "    </tr>\n",
       "  </tbody>\n",
       "</table>\n",
       "</div>"
      ],
      "text/plain": [
       "                             count        mean          std         min  \\\n",
       "TransactionAmount (eur)  1048567.0  310.396492  6753.475566 -1560034.99   \n",
       "\n",
       "                           25%    50%    75%        max  \n",
       "TransactionAmount (eur) -270.0  100.0  600.0  600008.32  "
      ]
     },
     "execution_count": 168,
     "metadata": {},
     "output_type": "execute_result"
    }
   ],
   "source": [
    "print(\"Información General de Transacciones:\\n\")\n",
    "print(transactions.info())\n",
    "transactions.describe().T"
   ]
  },
  {
   "cell_type": "code",
   "execution_count": 169,
   "metadata": {},
   "outputs": [
    {
     "name": "stdout",
     "output_type": "stream",
     "text": [
      "Valores Nulos en Transacciones % :\n",
      "TransactionID               0.000000\n",
      "CustomerID                  0.000000\n",
      "CustomerBirth               0.323966\n",
      "CustomerGender              0.104905\n",
      "TransactionLocation         0.000000\n",
      "TransactionDate             0.000000\n",
      "TransactionAmount (eur)     0.000000\n",
      "otherActor                 59.986629\n",
      "dtype: float64\n"
     ]
    }
   ],
   "source": [
    "# Verificar valores nulos\n",
    "print(\"Valores Nulos en Transacciones % :\")\n",
    "print(transactions.isnull().mean() * 100)"
   ]
  },
  {
   "cell_type": "markdown",
   "metadata": {},
   "source": [
    "<div style=\"background-color: #e0f7fa; padding: 10px; border-radius: 5px;\">\n",
    "\n",
    "<strong>Datos de Transacciones (data_BOC_transactions.csv):</strong>   \n",
    "Total de registros: 1,048,567  , <strong>CustomerBirth</strong>: 0´34% nulos  , <strong>CustomerGender</strong>: 0´1% nulos  , <strong>otherActor</strong>: 60% nulos  \n",
    "\n",
    "\n",
    "* otherActor:  hay una cantidad significativa de transacciones sin un actor contrario (otherActor).\n",
    "* CustomerBirth y `CustomerGender: Algunas transacciones carecen de información sobre la fecha de nacimiento y el género del cliente, pero estos valores nulos son relativamente pequeños en comparación con el total de registros.\n",
    "* TransactionAmount (eur): Los valores varían ampliamente, indicando una diversidad en el tamaño de las transacciones.\n",
    "\n",
    "La gran cantidad de valores nulos en otherActor sugiere que muchas transacciones son unilaterales o que no se registró correctamente el otro actor involucrado. Los valores nulos en CustomerBirth y CustomerGender necesitarán imputación o eliminación, dependiendo de su relevancia para el análisis de riesgo crediticio.\n"
   ]
  },
  {
   "cell_type": "markdown",
   "metadata": {},
   "source": [
    "### data_BOC_creditRisk.csv"
   ]
  },
  {
   "cell_type": "code",
   "execution_count": 170,
   "metadata": {},
   "outputs": [
    {
     "data": {
      "text/html": [
       "<div>\n",
       "<style scoped>\n",
       "    .dataframe tbody tr th:only-of-type {\n",
       "        vertical-align: middle;\n",
       "    }\n",
       "\n",
       "    .dataframe tbody tr th {\n",
       "        vertical-align: top;\n",
       "    }\n",
       "\n",
       "    .dataframe thead th {\n",
       "        text-align: right;\n",
       "    }\n",
       "</style>\n",
       "<table border=\"1\" class=\"dataframe\">\n",
       "  <thead>\n",
       "    <tr style=\"text-align: right;\">\n",
       "      <th></th>\n",
       "      <th>0</th>\n",
       "      <th>1</th>\n",
       "      <th>2</th>\n",
       "      <th>3</th>\n",
       "      <th>4</th>\n",
       "    </tr>\n",
       "  </thead>\n",
       "  <tbody>\n",
       "    <tr>\n",
       "      <th>Job</th>\n",
       "      <td>2</td>\n",
       "      <td>2</td>\n",
       "      <td>1</td>\n",
       "      <td>2</td>\n",
       "      <td>2</td>\n",
       "    </tr>\n",
       "    <tr>\n",
       "      <th>Housing</th>\n",
       "      <td>own</td>\n",
       "      <td>own</td>\n",
       "      <td>own</td>\n",
       "      <td>free</td>\n",
       "      <td>free</td>\n",
       "    </tr>\n",
       "    <tr>\n",
       "      <th>Credit amount</th>\n",
       "      <td>1169</td>\n",
       "      <td>5951</td>\n",
       "      <td>2096</td>\n",
       "      <td>7882</td>\n",
       "      <td>4870</td>\n",
       "    </tr>\n",
       "    <tr>\n",
       "      <th>Duration</th>\n",
       "      <td>6</td>\n",
       "      <td>48</td>\n",
       "      <td>12</td>\n",
       "      <td>42</td>\n",
       "      <td>24</td>\n",
       "    </tr>\n",
       "    <tr>\n",
       "      <th>Purpose</th>\n",
       "      <td>radio/TV</td>\n",
       "      <td>radio/TV</td>\n",
       "      <td>education</td>\n",
       "      <td>furniture/equipment</td>\n",
       "      <td>car</td>\n",
       "    </tr>\n",
       "    <tr>\n",
       "      <th>Risk</th>\n",
       "      <td>good</td>\n",
       "      <td>bad</td>\n",
       "      <td>good</td>\n",
       "      <td>good</td>\n",
       "      <td>bad</td>\n",
       "    </tr>\n",
       "    <tr>\n",
       "      <th>CustomerID</th>\n",
       "      <td>C1938652</td>\n",
       "      <td>C8016323</td>\n",
       "      <td>C5141487</td>\n",
       "      <td>C7035854</td>\n",
       "      <td>C5442952</td>\n",
       "    </tr>\n",
       "  </tbody>\n",
       "</table>\n",
       "</div>"
      ],
      "text/plain": [
       "                      0         1          2                    3         4\n",
       "Job                   2         2          1                    2         2\n",
       "Housing             own       own        own                 free      free\n",
       "Credit amount      1169      5951       2096                 7882      4870\n",
       "Duration              6        48         12                   42        24\n",
       "Purpose        radio/TV  radio/TV  education  furniture/equipment       car\n",
       "Risk               good       bad       good                 good       bad\n",
       "CustomerID     C1938652  C8016323   C5141487             C7035854  C5442952"
      ]
     },
     "execution_count": 170,
     "metadata": {},
     "output_type": "execute_result"
    }
   ],
   "source": [
    "# Riesgo de Crédito\n",
    "credit_risk.head().T"
   ]
  },
  {
   "cell_type": "code",
   "execution_count": 171,
   "metadata": {},
   "outputs": [
    {
     "name": "stdout",
     "output_type": "stream",
     "text": [
      "Información General de Riesgo de Crédito:\n",
      "\n",
      "<class 'pandas.core.frame.DataFrame'>\n",
      "RangeIndex: 1000 entries, 0 to 999\n",
      "Data columns (total 7 columns):\n",
      " #   Column         Non-Null Count  Dtype \n",
      "---  ------         --------------  ----- \n",
      " 0   Job            1000 non-null   int64 \n",
      " 1   Housing        1000 non-null   object\n",
      " 2   Credit amount  1000 non-null   int64 \n",
      " 3   Duration       1000 non-null   int64 \n",
      " 4   Purpose        1000 non-null   object\n",
      " 5   Risk           1000 non-null   object\n",
      " 6   CustomerID     1000 non-null   object\n",
      "dtypes: int64(3), object(4)\n",
      "memory usage: 54.8+ KB\n",
      "None\n"
     ]
    },
    {
     "data": {
      "text/html": [
       "<div>\n",
       "<style scoped>\n",
       "    .dataframe tbody tr th:only-of-type {\n",
       "        vertical-align: middle;\n",
       "    }\n",
       "\n",
       "    .dataframe tbody tr th {\n",
       "        vertical-align: top;\n",
       "    }\n",
       "\n",
       "    .dataframe thead th {\n",
       "        text-align: right;\n",
       "    }\n",
       "</style>\n",
       "<table border=\"1\" class=\"dataframe\">\n",
       "  <thead>\n",
       "    <tr style=\"text-align: right;\">\n",
       "      <th></th>\n",
       "      <th>count</th>\n",
       "      <th>mean</th>\n",
       "      <th>std</th>\n",
       "      <th>min</th>\n",
       "      <th>25%</th>\n",
       "      <th>50%</th>\n",
       "      <th>75%</th>\n",
       "      <th>max</th>\n",
       "    </tr>\n",
       "  </thead>\n",
       "  <tbody>\n",
       "    <tr>\n",
       "      <th>Job</th>\n",
       "      <td>1000.0</td>\n",
       "      <td>1.904</td>\n",
       "      <td>0.653614</td>\n",
       "      <td>0.0</td>\n",
       "      <td>2.0</td>\n",
       "      <td>2.0</td>\n",
       "      <td>2.00</td>\n",
       "      <td>3.0</td>\n",
       "    </tr>\n",
       "    <tr>\n",
       "      <th>Credit amount</th>\n",
       "      <td>1000.0</td>\n",
       "      <td>3271.258</td>\n",
       "      <td>2822.736876</td>\n",
       "      <td>250.0</td>\n",
       "      <td>1365.5</td>\n",
       "      <td>2319.5</td>\n",
       "      <td>3972.25</td>\n",
       "      <td>18424.0</td>\n",
       "    </tr>\n",
       "    <tr>\n",
       "      <th>Duration</th>\n",
       "      <td>1000.0</td>\n",
       "      <td>20.903</td>\n",
       "      <td>12.058814</td>\n",
       "      <td>4.0</td>\n",
       "      <td>12.0</td>\n",
       "      <td>18.0</td>\n",
       "      <td>24.00</td>\n",
       "      <td>72.0</td>\n",
       "    </tr>\n",
       "  </tbody>\n",
       "</table>\n",
       "</div>"
      ],
      "text/plain": [
       "                count      mean          std    min     25%     50%      75%  \\\n",
       "Job            1000.0     1.904     0.653614    0.0     2.0     2.0     2.00   \n",
       "Credit amount  1000.0  3271.258  2822.736876  250.0  1365.5  2319.5  3972.25   \n",
       "Duration       1000.0    20.903    12.058814    4.0    12.0    18.0    24.00   \n",
       "\n",
       "                   max  \n",
       "Job                3.0  \n",
       "Credit amount  18424.0  \n",
       "Duration          72.0  "
      ]
     },
     "execution_count": 171,
     "metadata": {},
     "output_type": "execute_result"
    }
   ],
   "source": [
    "print(\"Información General de Riesgo de Crédito:\\n\")\n",
    "print(credit_risk.info())\n",
    "credit_risk.describe().T"
   ]
  },
  {
   "cell_type": "code",
   "execution_count": 172,
   "metadata": {},
   "outputs": [
    {
     "name": "stdout",
     "output_type": "stream",
     "text": [
      "\n",
      "Valores Nulos en Riesgo de Crédito % :\n",
      "Job              0.0\n",
      "Housing          0.0\n",
      "Credit amount    0.0\n",
      "Duration         0.0\n",
      "Purpose          0.0\n",
      "Risk             0.0\n",
      "CustomerID       0.0\n",
      "dtype: float64\n"
     ]
    }
   ],
   "source": [
    "# Verificar valores nulos\n",
    "print(\"\\nValores Nulos en Riesgo de Crédito % :\")\n",
    "print(credit_risk.isnull().mean() * 100)"
   ]
  },
  {
   "cell_type": "markdown",
   "metadata": {},
   "source": [
    "<div style=\"background-color: #e0f7fa; padding: 10px; border-radius: 5px;\">\n",
    "\n",
    "<strong>Datos de Riesgo de Crédito (data_BOC_creditRisk.csv):</strong>  \n",
    "Total de registros: 1,000 . No hay valores nulos.  \n",
    "\n",
    "* Job, Housing, Credit amount, Duration, Purpose, Risk: Estos campos están bien definidos y completos. \n",
    "* Risk: La variable de riesgo contiene las etiquetas good y bad, que son cruciales para el modelo de evaluación de crédito.\n",
    "\n",
    "La ausencia de valores nulos y la integridad de los datos sugieren que este conjunto está listo para ser utilizado en el modelado sin necesidad de limpieza adicional. Los datos están equilibrados en términos de características y pueden proporcionar un buen punto de partida para entrenar un modelo predictivo de riesgo de crédito."
   ]
  },
  {
   "cell_type": "markdown",
   "metadata": {},
   "source": [
    "### data_BOC_fraudDetection.csv"
   ]
  },
  {
   "cell_type": "code",
   "execution_count": 173,
   "metadata": {},
   "outputs": [
    {
     "data": {
      "text/html": [
       "<div>\n",
       "<style scoped>\n",
       "    .dataframe tbody tr th:only-of-type {\n",
       "        vertical-align: middle;\n",
       "    }\n",
       "\n",
       "    .dataframe tbody tr th {\n",
       "        vertical-align: top;\n",
       "    }\n",
       "\n",
       "    .dataframe thead th {\n",
       "        text-align: right;\n",
       "    }\n",
       "</style>\n",
       "<table border=\"1\" class=\"dataframe\">\n",
       "  <thead>\n",
       "    <tr style=\"text-align: right;\">\n",
       "      <th></th>\n",
       "      <th>0</th>\n",
       "      <th>1</th>\n",
       "      <th>2</th>\n",
       "      <th>3</th>\n",
       "      <th>4</th>\n",
       "    </tr>\n",
       "  </thead>\n",
       "  <tbody>\n",
       "    <tr>\n",
       "      <th>type</th>\n",
       "      <td>PAYMENT</td>\n",
       "      <td>PAYMENT</td>\n",
       "      <td>TRANSFER</td>\n",
       "      <td>CASH_OUT</td>\n",
       "      <td>PAYMENT</td>\n",
       "    </tr>\n",
       "    <tr>\n",
       "      <th>amount</th>\n",
       "      <td>9839.64</td>\n",
       "      <td>1864.28</td>\n",
       "      <td>181.0</td>\n",
       "      <td>181.0</td>\n",
       "      <td>11668.14</td>\n",
       "    </tr>\n",
       "    <tr>\n",
       "      <th>Orig</th>\n",
       "      <td>C4241584</td>\n",
       "      <td>C7332525</td>\n",
       "      <td>NaN</td>\n",
       "      <td>C8442079</td>\n",
       "      <td>C3359562</td>\n",
       "    </tr>\n",
       "    <tr>\n",
       "      <th>oldbalanceOrig</th>\n",
       "      <td>170136.0</td>\n",
       "      <td>21249.0</td>\n",
       "      <td>181.0</td>\n",
       "      <td>181.0</td>\n",
       "      <td>41554.0</td>\n",
       "    </tr>\n",
       "    <tr>\n",
       "      <th>newbalanceOrig</th>\n",
       "      <td>160296.36</td>\n",
       "      <td>19384.72</td>\n",
       "      <td>0.0</td>\n",
       "      <td>0.0</td>\n",
       "      <td>29885.86</td>\n",
       "    </tr>\n",
       "    <tr>\n",
       "      <th>Dest</th>\n",
       "      <td>C7814776</td>\n",
       "      <td>C7821866</td>\n",
       "      <td>C5821867</td>\n",
       "      <td>C8831669</td>\n",
       "      <td>NaN</td>\n",
       "    </tr>\n",
       "    <tr>\n",
       "      <th>oldbalanceDest</th>\n",
       "      <td>0.0</td>\n",
       "      <td>0.0</td>\n",
       "      <td>0.0</td>\n",
       "      <td>21182.0</td>\n",
       "      <td>0.0</td>\n",
       "    </tr>\n",
       "    <tr>\n",
       "      <th>newbalanceDest</th>\n",
       "      <td>0.0</td>\n",
       "      <td>0.0</td>\n",
       "      <td>0.0</td>\n",
       "      <td>0.0</td>\n",
       "      <td>0.0</td>\n",
       "    </tr>\n",
       "    <tr>\n",
       "      <th>isFraud</th>\n",
       "      <td>0</td>\n",
       "      <td>0</td>\n",
       "      <td>1</td>\n",
       "      <td>1</td>\n",
       "      <td>0</td>\n",
       "    </tr>\n",
       "  </tbody>\n",
       "</table>\n",
       "</div>"
      ],
      "text/plain": [
       "                        0         1         2         3         4\n",
       "type              PAYMENT   PAYMENT  TRANSFER  CASH_OUT   PAYMENT\n",
       "amount            9839.64   1864.28     181.0     181.0  11668.14\n",
       "Orig             C4241584  C7332525       NaN  C8442079  C3359562\n",
       "oldbalanceOrig   170136.0   21249.0     181.0     181.0   41554.0\n",
       "newbalanceOrig  160296.36  19384.72       0.0       0.0  29885.86\n",
       "Dest             C7814776  C7821866  C5821867  C8831669       NaN\n",
       "oldbalanceDest        0.0       0.0       0.0   21182.0       0.0\n",
       "newbalanceDest        0.0       0.0       0.0       0.0       0.0\n",
       "isFraud                 0         0         1         1         0"
      ]
     },
     "execution_count": 173,
     "metadata": {},
     "output_type": "execute_result"
    }
   ],
   "source": [
    "# Detección de Fraude\n",
    "fraud_detection.head().T"
   ]
  },
  {
   "cell_type": "code",
   "execution_count": 174,
   "metadata": {},
   "outputs": [
    {
     "name": "stdout",
     "output_type": "stream",
     "text": [
      "Información General de Detección de Fraude:\\ \n",
      "<class 'pandas.core.frame.DataFrame'>\n",
      "RangeIndex: 100000 entries, 0 to 99999\n",
      "Data columns (total 9 columns):\n",
      " #   Column          Non-Null Count   Dtype  \n",
      "---  ------          --------------   -----  \n",
      " 0   type            100000 non-null  object \n",
      " 1   amount          100000 non-null  float64\n",
      " 2   Orig            75000 non-null   object \n",
      " 3   oldbalanceOrig  100000 non-null  float64\n",
      " 4   newbalanceOrig  100000 non-null  float64\n",
      " 5   Dest            75000 non-null   object \n",
      " 6   oldbalanceDest  100000 non-null  float64\n",
      " 7   newbalanceDest  100000 non-null  float64\n",
      " 8   isFraud         100000 non-null  int64  \n",
      "dtypes: float64(5), int64(1), object(3)\n",
      "memory usage: 6.9+ MB\n",
      "None\n"
     ]
    },
    {
     "data": {
      "text/html": [
       "<div>\n",
       "<style scoped>\n",
       "    .dataframe tbody tr th:only-of-type {\n",
       "        vertical-align: middle;\n",
       "    }\n",
       "\n",
       "    .dataframe tbody tr th {\n",
       "        vertical-align: top;\n",
       "    }\n",
       "\n",
       "    .dataframe thead th {\n",
       "        text-align: right;\n",
       "    }\n",
       "</style>\n",
       "<table border=\"1\" class=\"dataframe\">\n",
       "  <thead>\n",
       "    <tr style=\"text-align: right;\">\n",
       "      <th></th>\n",
       "      <th>count</th>\n",
       "      <th>mean</th>\n",
       "      <th>std</th>\n",
       "      <th>min</th>\n",
       "      <th>25%</th>\n",
       "      <th>50%</th>\n",
       "      <th>75%</th>\n",
       "      <th>max</th>\n",
       "    </tr>\n",
       "  </thead>\n",
       "  <tbody>\n",
       "    <tr>\n",
       "      <th>amount</th>\n",
       "      <td>100000.0</td>\n",
       "      <td>1.736022e+05</td>\n",
       "      <td>3.443003e+05</td>\n",
       "      <td>0.32</td>\n",
       "      <td>9963.5625</td>\n",
       "      <td>52745.52</td>\n",
       "      <td>211763.150</td>\n",
       "      <td>10000000.00</td>\n",
       "    </tr>\n",
       "    <tr>\n",
       "      <th>oldbalanceOrig</th>\n",
       "      <td>100000.0</td>\n",
       "      <td>8.777575e+05</td>\n",
       "      <td>2.673284e+06</td>\n",
       "      <td>0.00</td>\n",
       "      <td>0.0000</td>\n",
       "      <td>20061.50</td>\n",
       "      <td>190192.025</td>\n",
       "      <td>33797391.55</td>\n",
       "    </tr>\n",
       "    <tr>\n",
       "      <th>newbalanceOrig</th>\n",
       "      <td>100000.0</td>\n",
       "      <td>8.940619e+05</td>\n",
       "      <td>2.711318e+06</td>\n",
       "      <td>0.00</td>\n",
       "      <td>0.0000</td>\n",
       "      <td>0.00</td>\n",
       "      <td>214813.250</td>\n",
       "      <td>34008736.98</td>\n",
       "    </tr>\n",
       "    <tr>\n",
       "      <th>oldbalanceDest</th>\n",
       "      <td>100000.0</td>\n",
       "      <td>8.805048e+05</td>\n",
       "      <td>2.402267e+06</td>\n",
       "      <td>0.00</td>\n",
       "      <td>0.0000</td>\n",
       "      <td>20839.43</td>\n",
       "      <td>588272.375</td>\n",
       "      <td>34008736.98</td>\n",
       "    </tr>\n",
       "    <tr>\n",
       "      <th>newbalanceDest</th>\n",
       "      <td>100000.0</td>\n",
       "      <td>1.184041e+06</td>\n",
       "      <td>2.802350e+06</td>\n",
       "      <td>0.00</td>\n",
       "      <td>0.0000</td>\n",
       "      <td>49909.18</td>\n",
       "      <td>1058186.155</td>\n",
       "      <td>38946233.02</td>\n",
       "    </tr>\n",
       "    <tr>\n",
       "      <th>isFraud</th>\n",
       "      <td>100000.0</td>\n",
       "      <td>1.160000e-03</td>\n",
       "      <td>3.403918e-02</td>\n",
       "      <td>0.00</td>\n",
       "      <td>0.0000</td>\n",
       "      <td>0.00</td>\n",
       "      <td>0.000</td>\n",
       "      <td>1.00</td>\n",
       "    </tr>\n",
       "  </tbody>\n",
       "</table>\n",
       "</div>"
      ],
      "text/plain": [
       "                   count          mean           std   min        25%  \\\n",
       "amount          100000.0  1.736022e+05  3.443003e+05  0.32  9963.5625   \n",
       "oldbalanceOrig  100000.0  8.777575e+05  2.673284e+06  0.00     0.0000   \n",
       "newbalanceOrig  100000.0  8.940619e+05  2.711318e+06  0.00     0.0000   \n",
       "oldbalanceDest  100000.0  8.805048e+05  2.402267e+06  0.00     0.0000   \n",
       "newbalanceDest  100000.0  1.184041e+06  2.802350e+06  0.00     0.0000   \n",
       "isFraud         100000.0  1.160000e-03  3.403918e-02  0.00     0.0000   \n",
       "\n",
       "                     50%          75%          max  \n",
       "amount          52745.52   211763.150  10000000.00  \n",
       "oldbalanceOrig  20061.50   190192.025  33797391.55  \n",
       "newbalanceOrig      0.00   214813.250  34008736.98  \n",
       "oldbalanceDest  20839.43   588272.375  34008736.98  \n",
       "newbalanceDest  49909.18  1058186.155  38946233.02  \n",
       "isFraud             0.00        0.000         1.00  "
      ]
     },
     "execution_count": 174,
     "metadata": {},
     "output_type": "execute_result"
    }
   ],
   "source": [
    "print(\"Información General de Detección de Fraude:\\ \")\n",
    "print(fraud_detection.info())\n",
    "fraud_detection.describe().T"
   ]
  },
  {
   "cell_type": "code",
   "execution_count": 175,
   "metadata": {},
   "outputs": [
    {
     "name": "stdout",
     "output_type": "stream",
     "text": [
      "\n",
      "Valores Nulos en Detección de Fraude % :\n",
      "type               0.0\n",
      "amount             0.0\n",
      "Orig              25.0\n",
      "oldbalanceOrig     0.0\n",
      "newbalanceOrig     0.0\n",
      "Dest              25.0\n",
      "oldbalanceDest     0.0\n",
      "newbalanceDest     0.0\n",
      "isFraud            0.0\n",
      "dtype: float64\n"
     ]
    }
   ],
   "source": [
    "# Verificar valores nulos\n",
    "print(\"\\nValores Nulos en Detección de Fraude % :\")\n",
    "print(fraud_detection.isnull().mean() * 100)"
   ]
  },
  {
   "cell_type": "markdown",
   "metadata": {},
   "source": [
    "<div style=\"background-color: #e0f7fa; padding: 10px; border-radius: 5px;\">\n",
    "\n",
    "<strong>Datos de Detección de Fraude (data_BOC_fraudDetection.csv):</strong>  \n",
    "Total de registros: 100,000  , <strong>Orig</strong>: 25% nulos  , <strong>Dest</strong>: 25% nulos  \n",
    "\n",
    "\n",
    "* Orig y Dest: Una cuarta parte de los registros carecen de información sobre el origen y destino de las transacciones, lo cual es significativo.\n",
    "* isFraud: Contiene etiquetas binarias indicando si una transacción es fraudulenta o no, con una incidencia muy baja de fraude (0.116% de las transacciones).\n",
    "\n",
    "Los valores nulos en Orig y Dest indican que una cantidad significativa de transacciones no tiene identificadores claros de origen y destino, lo que puede complicar el análisis de fraude. La baja incidencia de fraude requiere técnicas específicas para manejar el desbalanceo de clases en el modelo de detección de fraude."
   ]
  },
  {
   "cell_type": "markdown",
   "metadata": {},
   "source": [
    "\n",
    "Transformar el Dataset\n",
    "---"
   ]
  },
  {
   "cell_type": "code",
   "execution_count": 176,
   "metadata": {},
   "outputs": [],
   "source": [
    "# Cargar los archivos CSV\n",
    "transactions_c = transactions.copy()\n",
    "credit_risk_c = credit_risk.copy()\n",
    "fraud_detection_c = fraud_detection.copy()"
   ]
  },
  {
   "cell_type": "markdown",
   "metadata": {},
   "source": [
    "**Datos duplicados**"
   ]
  },
  {
   "cell_type": "code",
   "execution_count": 177,
   "metadata": {},
   "outputs": [
    {
     "name": "stdout",
     "output_type": "stream",
     "text": [
      "Número de filas duplicadas en transactions: 0\n",
      "Número de filas duplicadas en duplicated_rows: 0\n",
      "Número de filas duplicadas en fraud_detection: 0\n"
     ]
    }
   ],
   "source": [
    "# Verificar si hay instancias duplicadas\n",
    "duplicated_rows = transactions_c.duplicated()\n",
    "print(\"Número de filas duplicadas en transactions:\", duplicated_rows.sum())\n",
    "\n",
    "# Verificar si hay instancias duplicadas\n",
    "duplicated_rows = credit_risk_c.duplicated()\n",
    "print(\"Número de filas duplicadas en duplicated_rows:\", duplicated_rows.sum())\n",
    "\n",
    "# Verificar si hay instancias duplicadas\n",
    "duplicated_rows = fraud_detection_c.duplicated()\n",
    "print(\"Número de filas duplicadas en fraud_detection:\", duplicated_rows.sum())"
   ]
  },
  {
   "cell_type": "markdown",
   "metadata": {},
   "source": [
    "---\n",
    "**El caso del atributo CustomerGender**\n",
    "\n",
    "Creo una nueva categoría \"Desconocido\" para los valores nulos.  \n",
    "Esto evita hacer suposiciones y mantiene la integridad de los datos originales."
   ]
  },
  {
   "cell_type": "code",
   "execution_count": 178,
   "metadata": {},
   "outputs": [
    {
     "data": {
      "text/plain": [
       "['F', 'M', nan, 'T']"
      ]
     },
     "execution_count": 178,
     "metadata": {},
     "output_type": "execute_result"
    }
   ],
   "source": [
    "[ x for x in transactions_c['CustomerGender'].unique()]"
   ]
  },
  {
   "cell_type": "code",
   "execution_count": 179,
   "metadata": {},
   "outputs": [
    {
     "name": "stdout",
     "output_type": "stream",
     "text": [
      "['F' 'M' 'Desconocido' 'T']\n",
      "0\n"
     ]
    }
   ],
   "source": [
    "# Crear una nueva categoría \"Desconocido\" para los valores nulos en CustomerGender\n",
    "transactions_c['CustomerGender'] = transactions_c['CustomerGender'].fillna('Desconocido')\n",
    "\n",
    "# Verificar la imputación\n",
    "print(transactions_c['CustomerGender'].unique())\n",
    "print(transactions_c['CustomerGender'].isnull().sum())"
   ]
  },
  {
   "cell_type": "markdown",
   "metadata": {},
   "source": [
    "---\n",
    "\n",
    "**Separar claramente el EmitterID (ID del emisor) y ReceiverID (ID del receptor)**\n",
    "\n",
    "Al transformar el dataset para separar claramente el EmitterID (ID del emisor) y ReceiverID (ID del receptor), se hace más fácil realizar análisis y modelos predictivos sin tener que reinterpretar continuamente el significado de TransactionAmount (eur) y otherActor."
   ]
  },
  {
   "cell_type": "code",
   "execution_count": 180,
   "metadata": {},
   "outputs": [
    {
     "data": {
      "text/html": [
       "<div>\n",
       "<style scoped>\n",
       "    .dataframe tbody tr th:only-of-type {\n",
       "        vertical-align: middle;\n",
       "    }\n",
       "\n",
       "    .dataframe tbody tr th {\n",
       "        vertical-align: top;\n",
       "    }\n",
       "\n",
       "    .dataframe thead th {\n",
       "        text-align: right;\n",
       "    }\n",
       "</style>\n",
       "<table border=\"1\" class=\"dataframe\">\n",
       "  <thead>\n",
       "    <tr style=\"text-align: right;\">\n",
       "      <th></th>\n",
       "      <th>0</th>\n",
       "      <th>1</th>\n",
       "      <th>2</th>\n",
       "      <th>3</th>\n",
       "      <th>4</th>\n",
       "    </tr>\n",
       "  </thead>\n",
       "  <tbody>\n",
       "    <tr>\n",
       "      <th>TransactionID</th>\n",
       "      <td>T1</td>\n",
       "      <td>T2</td>\n",
       "      <td>T3</td>\n",
       "      <td>T4</td>\n",
       "      <td>T5</td>\n",
       "    </tr>\n",
       "    <tr>\n",
       "      <th>CustomerID</th>\n",
       "      <td>C5841053</td>\n",
       "      <td>C2142763</td>\n",
       "      <td>C4417068</td>\n",
       "      <td>C5342380</td>\n",
       "      <td>C9031234</td>\n",
       "    </tr>\n",
       "    <tr>\n",
       "      <th>CustomerBirth</th>\n",
       "      <td>10/1/94</td>\n",
       "      <td>4/4/57</td>\n",
       "      <td>26/11/96</td>\n",
       "      <td>14/9/73</td>\n",
       "      <td>24/3/88</td>\n",
       "    </tr>\n",
       "    <tr>\n",
       "      <th>CustomerGender</th>\n",
       "      <td>F</td>\n",
       "      <td>M</td>\n",
       "      <td>F</td>\n",
       "      <td>F</td>\n",
       "      <td>F</td>\n",
       "    </tr>\n",
       "    <tr>\n",
       "      <th>TransactionLocation</th>\n",
       "      <td>Viana do Castelo</td>\n",
       "      <td>Coria del Río</td>\n",
       "      <td>Jávea</td>\n",
       "      <td>Córdoba</td>\n",
       "      <td>Sestao</td>\n",
       "    </tr>\n",
       "    <tr>\n",
       "      <th>TransactionDate</th>\n",
       "      <td>2/8/16</td>\n",
       "      <td>2/8/16</td>\n",
       "      <td>2/8/16</td>\n",
       "      <td>2/8/16</td>\n",
       "      <td>2/8/16</td>\n",
       "    </tr>\n",
       "    <tr>\n",
       "      <th>TransactionAmount (eur)</th>\n",
       "      <td>25.0</td>\n",
       "      <td>27999.0</td>\n",
       "      <td>459.0</td>\n",
       "      <td>2060.0</td>\n",
       "      <td>1762.5</td>\n",
       "    </tr>\n",
       "    <tr>\n",
       "      <th>EmitterID</th>\n",
       "      <td>C1419665</td>\n",
       "      <td>NaN</td>\n",
       "      <td>C3467392</td>\n",
       "      <td>C6628470</td>\n",
       "      <td>C7321714</td>\n",
       "    </tr>\n",
       "    <tr>\n",
       "      <th>ReceiverID</th>\n",
       "      <td>C5841053</td>\n",
       "      <td>C2142763</td>\n",
       "      <td>C4417068</td>\n",
       "      <td>C5342380</td>\n",
       "      <td>C9031234</td>\n",
       "    </tr>\n",
       "  </tbody>\n",
       "</table>\n",
       "</div>"
      ],
      "text/plain": [
       "                                        0              1         2         3  \\\n",
       "TransactionID                          T1             T2        T3        T4   \n",
       "CustomerID                       C5841053       C2142763  C4417068  C5342380   \n",
       "CustomerBirth                     10/1/94         4/4/57  26/11/96   14/9/73   \n",
       "CustomerGender                          F              M         F         F   \n",
       "TransactionLocation      Viana do Castelo  Coria del Río     Jávea   Córdoba   \n",
       "TransactionDate                    2/8/16         2/8/16    2/8/16    2/8/16   \n",
       "TransactionAmount (eur)              25.0        27999.0     459.0    2060.0   \n",
       "EmitterID                        C1419665            NaN  C3467392  C6628470   \n",
       "ReceiverID                       C5841053       C2142763  C4417068  C5342380   \n",
       "\n",
       "                                4  \n",
       "TransactionID                  T5  \n",
       "CustomerID               C9031234  \n",
       "CustomerBirth             24/3/88  \n",
       "CustomerGender                  F  \n",
       "TransactionLocation        Sestao  \n",
       "TransactionDate            2/8/16  \n",
       "TransactionAmount (eur)    1762.5  \n",
       "EmitterID                C7321714  \n",
       "ReceiverID               C9031234  "
      ]
     },
     "execution_count": 180,
     "metadata": {},
     "output_type": "execute_result"
    }
   ],
   "source": [
    "# Crear nuevas columnas EmitterID y ReceiverID basadas en el valor de TransactionAmount (eur)\n",
    "transactions_c['EmitterID'] = transactions_c.apply(lambda row: row['CustomerID'] if row['TransactionAmount (eur)'] < 0 else row['otherActor'], axis=1)\n",
    "transactions_c['ReceiverID'] = transactions_c.apply(lambda row: row['CustomerID'] if row['TransactionAmount (eur)'] > 0 else row['otherActor'], axis=1)\n",
    "\n",
    "# Drop the 'otherActor' column as it is no longer needed\n",
    "transactions_c.drop(columns=['otherActor'], inplace=True)\n",
    "\n",
    "# Mostrar las primeras filas para verificar la transformación\n",
    "transactions_c.head().T\n"
   ]
  },
  {
   "cell_type": "code",
   "execution_count": 181,
   "metadata": {},
   "outputs": [],
   "source": [
    "# Crear una nueva categoría \"Desconocido\" para los valores nulos en EmitterID y ReceiverID   \n",
    "transactions_c['EmitterID'] = transactions_c['EmitterID'].fillna('Desconocido')\n",
    "transactions_c['ReceiverID'] = transactions_c['ReceiverID'].fillna('Desconocido')"
   ]
  },
  {
   "cell_type": "code",
   "execution_count": 182,
   "metadata": {},
   "outputs": [
    {
     "name": "stdout",
     "output_type": "stream",
     "text": [
      "Número de valores nulos antes de la conversión: 3397\n",
      "Número de valores nulos después de la conversión: 60736\n",
      "Algunos de los valores originales que causaron nulos:\n"
     ]
    },
    {
     "data": {
      "text/plain": [
       "16     1/1/1800\n",
       "22     1/1/1800\n",
       "28     1/1/1800\n",
       "35     1/1/1800\n",
       "151    1/1/1800\n",
       "163    1/1/1800\n",
       "176    1/1/1800\n",
       "182    1/1/1800\n",
       "190    1/1/1800\n",
       "193    1/1/1800\n",
       "206    1/1/1800\n",
       "222         NaN\n",
       "Name: CustomerBirth, dtype: object"
      ]
     },
     "execution_count": 182,
     "metadata": {},
     "output_type": "execute_result"
    }
   ],
   "source": [
    "# Número de valores nulos antes de la conversión\n",
    "null_before = transactions['CustomerBirth'].isnull().sum()\n",
    "\n",
    "# Convertir CustomerBirth a datetime con formato específico\n",
    "date_format = '%d/%m/%y'  # Ajusta este formato según tu dataset\n",
    "transactions_c['CustomerBirth'] = pd.to_datetime(transactions_c['CustomerBirth'], format=date_format, errors='coerce')\n",
    "\n",
    "# Número de valores nulos después de la conversión\n",
    "null_after = transactions_c['CustomerBirth'].isnull().sum()\n",
    "\n",
    "# Mostrar la diferencia\n",
    "print(f\"Número de valores nulos antes de la conversión: {null_before}\")\n",
    "print(f\"Número de valores nulos después de la conversión: {null_after}\")\n",
    "\n",
    "# Examinar algunos valores originales que se convirtieron en nulos\n",
    "invalid_dates = transactions[transactions_c['CustomerBirth'].isnull()]['CustomerBirth'].head(12)\n",
    "print(\"Algunos de los valores originales que causaron nulos:\")\n",
    "\n",
    "invalid_dates\n"
   ]
  },
  {
   "cell_type": "markdown",
   "metadata": {},
   "source": [
    "<div style=\"background-color: #e0f7fa; padding: 10px; border-radius: 5px;\">\n",
    "\n",
    "<strong>Desglose de esta transformación</strong> : \n",
    "\n",
    "\n",
    "\n",
    "Separación de EmitterID y ReceiverID:\n",
    "\n",
    "* EmitterID: Esta columna se llena con el CustomerID si el TransactionAmount (eur) es negativo, lo que significa que el cliente emitió (envió) el dinero. Si es positivo, se llena con otherActor (el receptor).\n",
    "* ReceiverID: Esta columna se llena con el CustomerID si el TransactionAmount (eur) es positivo, lo que significa que el cliente recibió el dinero. Si es negativo, se llena con otherActor (el emisor).\n",
    "* Eliminación de la Columna otherActor: Después de crear EmitterID y ReceiverID, la columna otherActor ya no es necesaria y se elimina.\n",
    "\n",
    "Los valores \"1/1/1800\" parecen ser un marcador de fecha por defecto que se utilizó en lugar de valores reales y no tienen relevancia real para el análisis. Se devería convertir fechas válidas en CustomerBirth y TransactionDate, además de manejar las fechas \"1/1/1800\" como nulos."
   ]
  },
  {
   "cell_type": "markdown",
   "metadata": {},
   "source": [
    "**Formatos de fecha, convertir a nan 1/1/1800 y eliminan instancias valores NaN**"
   ]
  },
  {
   "cell_type": "code",
   "execution_count": 183,
   "metadata": {},
   "outputs": [],
   "source": [
    "# Formato de fecha especificado para CustomerBirth\n",
    "date_format = '%d/%m/%y'  # Ajusta este formato según tu dataset\n",
    "\n",
    "# Convertir CustomerBirth a datetime con formato específico\n",
    "transactions_c['CustomerBirth'] = pd.to_datetime(transactions_c['CustomerBirth'], format=date_format, errors='coerce')\n",
    "transactions_c['TransactionDate'] = pd.to_datetime(transactions_c['TransactionDate'], format=date_format, errors='coerce')\n",
    "\n",
    "# manejar las fechas \"1/1/1800\" como nulos\n",
    "transactions['CustomerBirth'] = transactions['CustomerBirth'].replace('1/1/1800', np.nan)\n",
    "\n",
    "# Eliminar filas con valores NaN en la columna 'CustomerBirth'\n",
    "transactions_c = transactions_c.dropna(subset=['CustomerBirth'])\n",
    "transactions_c = transactions_c.dropna(subset=['CustomerGender'])"
   ]
  },
  {
   "cell_type": "markdown",
   "metadata": {},
   "source": [
    "### Análisis de las Variables Clave\n",
    "\n",
    "**data_BOC_transactions.csv**"
   ]
  },
  {
   "cell_type": "code",
   "execution_count": 184,
   "metadata": {},
   "outputs": [
    {
     "data": {
      "image/png": "[encoded data removed]",
      "text/plain": [
       "<Figure size 1000x200 with 1 Axes>"
      ]
     },
     "metadata": {},
     "output_type": "display_data"
    },
    {
     "data": {
      "image/png": "[encoded data removed]",
      "text/plain": [
       "<Figure size 600x200 with 1 Axes>"
      ]
     },
     "metadata": {},
     "output_type": "display_data"
    }
   ],
   "source": [
    "# Histograma con escala logarítmica\n",
    "plt.figure(figsize=(10, 2))\n",
    "sns.histplot(transactions_c['TransactionAmount (eur)'], bins=50)\n",
    "plt.yscale('log')\n",
    "plt.title('Distribución del Monto de las Transacciones (Escala Logarítmica)')\n",
    "plt.xlabel('Monto de la Transacción (EUR)')\n",
    "plt.ylabel('Frecuencia (log)')\n",
    "plt.show()\n",
    "\n",
    "# Análisis de CustomerGender\n",
    "plt.figure(figsize=(6, 2))\n",
    "sns.countplot(data=transactions_c, x='CustomerGender')\n",
    "plt.title('Distribución de Género de los Clientes')\n",
    "plt.xlabel('Género')\n",
    "plt.ylabel('Frecuencia')\n",
    "plt.show()"
   ]
  },
  {
   "cell_type": "markdown",
   "metadata": {},
   "source": [
    "<div style=\"background-color: #e0f7fa; padding: 10px; border-radius: 5px;\">\n",
    "\n",
    "* <strong>Distribución del Monto de las Transacciones (Escala Logarítmica):</strong> La mayoría de las transacciones tienen montos pequeños con algunos valores extremos. La transformación logarítmica ayuda a estabilizar la varianza y normalizar la distribución, lo que puede mejorar el rendimiento de los algoritmos de ML que asumen una distribución normal de los datos.\n",
    "\n",
    "* <strong>Distribución de Género de los Clientes:</strong> La predominancia de clientes masculinos indica una posible variable predictiva demográfica. Esta distribución de género puede ser útil para segmentar los datos y entender mejor los patrones de comportamiento de diferentes grupos de clientes."
   ]
  },
  {
   "cell_type": "markdown",
   "metadata": {},
   "source": [
    "**data_BOC_creditRisk.csv**"
   ]
  },
  {
   "cell_type": "code",
   "execution_count": 185,
   "metadata": {},
   "outputs": [
    {
     "data": {
      "image/png": "[encoded data removed]",
      "text/plain": [
       "<Figure size 600x200 with 1 Axes>"
      ]
     },
     "metadata": {},
     "output_type": "display_data"
    },
    {
     "data": {
      "image/png": "[encoded data removed]",
      "text/plain": [
       "<Figure size 600x200 with 1 Axes>"
      ]
     },
     "metadata": {},
     "output_type": "display_data"
    },
    {
     "data": {
      "image/png": "[encoded data removed]",
      "text/plain": [
       "<Figure size 600x200 with 1 Axes>"
      ]
     },
     "metadata": {},
     "output_type": "display_data"
    }
   ],
   "source": [
    "# Análisis de la cantidad de crédito y la duración\n",
    "plt.figure(figsize=(6, 2))\n",
    "sns.histplot(credit_risk['Credit amount'], bins=50, kde=True)\n",
    "plt.title('Distribución del Monto de Crédito')\n",
    "plt.xlabel('Monto de Crédito')\n",
    "plt.ylabel('Frecuencia')\n",
    "plt.show()\n",
    "\n",
    "plt.figure(figsize=(6, 2))\n",
    "sns.histplot(credit_risk['Duration'], bins=20, kde=True)\n",
    "plt.title('Distribución de la Duración del Crédito')\n",
    "plt.xlabel('Duración (meses)')\n",
    "plt.ylabel('Frecuencia')\n",
    "plt.show()\n",
    "\n",
    "# Distribución del riesgo\n",
    "plt.figure(figsize=(6, 2))\n",
    "sns.countplot(data=credit_risk, x='Risk')\n",
    "plt.title('Distribución de Riesgo de Crédito')\n",
    "plt.xlabel('Riesgo')\n",
    "plt.ylabel('Frecuencia')\n",
    "plt.show()"
   ]
  },
  {
   "cell_type": "markdown",
   "metadata": {},
   "source": [
    "<div style=\"background-color: #e0f7fa; padding: 10px; border-radius: 5px;\">\n",
    "\n",
    "* <strong>Distribución del Monto de Crédito</strong>: La mayoría de los créditos tienen montos pequeños, lo cual puede influir en la predicción del riesgo crediticio. La distribución sesgada hacia montos más bajos sugiere que el modelo debe estar bien ajustado para manejar esta variabilidad y detectar patrones tanto en créditos pequeños como en los pocos créditos de montos altos.\n",
    "  \n",
    "* <strong>Distribución de la Duración del Crédito</strong>: La concentración de créditos en duraciones cortas (10-24 meses) sugiere que el modelo debe ser capaz de distinguir entre diferentes comportamientos de pago a corto plazo. Las duraciones más largas, aunque menos frecuentes, pueden proporcionar información valiosa sobre los clientes con créditos de mayor plazo.\n",
    "  \n",
    "* <strong>Distribución de Riesgo de Crédito</strong>: La mayoría de los clientes tienen un buen riesgo de crédito, indicando un desequilibrio de clases en el dataset. Para construir un modelo robusto, se necesitarán técnicas como el sobremuestreo (SMOTE) o el submuestreo para manejar este desequilibrio y asegurar que el modelo no sea sesgado hacia la clase mayoritaria (buen riesgo)."
   ]
  },
  {
   "cell_type": "markdown",
   "metadata": {},
   "source": [
    "**data_BOC_fraudDetection.csv**"
   ]
  },
  {
   "cell_type": "code",
   "execution_count": 186,
   "metadata": {},
   "outputs": [
    {
     "data": {
      "image/png": "[encoded data removed]",
      "text/plain": [
       "<Figure size 1000x200 with 1 Axes>"
      ]
     },
     "metadata": {},
     "output_type": "display_data"
    },
    {
     "data": {
      "image/png": "[encoded data removed]",
      "text/plain": [
       "<Figure size 1000x200 with 1 Axes>"
      ]
     },
     "metadata": {},
     "output_type": "display_data"
    },
    {
     "data": {
      "image/png": "[encoded data removed]",
      "text/plain": [
       "<Figure size 1000x200 with 1 Axes>"
      ]
     },
     "metadata": {},
     "output_type": "display_data"
    }
   ],
   "source": [
    "# Distribución de los montos de las transacciones\n",
    "plt.figure(figsize=(10, 2))\n",
    "sns.histplot(fraud_detection['amount'], bins=50, kde=True)\n",
    "plt.title('Distribución del Monto de las Transacciones (Detección de Fraude)')\n",
    "plt.xlabel('Monto de la Transacción')\n",
    "plt.ylabel('Frecuencia')\n",
    "plt.show()\n",
    "\n",
    "# Distribución de las transacciones fraudulentas\n",
    "plt.figure(figsize=(10, 2))\n",
    "sns.countplot(data=fraud_detection, x='isFraud')\n",
    "plt.title('Distribución de Transacciones Fraudulentas')\n",
    "plt.xlabel('Es Fraude')\n",
    "plt.ylabel('Frecuencia')\n",
    "plt.show()\n",
    "\n",
    "# Análisis de la distribución de tipo de transacción\n",
    "plt.figure(figsize=(10, 2))\n",
    "sns.countplot(data=fraud_detection, x='type')\n",
    "plt.title('Distribución de Tipos de Transacción')\n",
    "plt.xlabel('Tipo de Transacción')\n",
    "plt.ylabel('Frecuencia')\n",
    "plt.show()"
   ]
  },
  {
   "cell_type": "markdown",
   "metadata": {},
   "source": [
    "<div style=\"background-color: #e0f7fa; padding: 10px; border-radius: 5px;\">\n",
    "\n",
    "* <strong>Distribución del Monto de las Transacciones:</strong> La mayoría de las transacciones tienen montos pequeños, pero las transacciones fraudulentas pueden tener montos significativamente diferentes. La identificación de transacciones anómalas en diferentes rangos de montos será crucial para un modelo efectivo de detección de fraude.\n",
    "\n",
    "* <strong>Distribución de Transacciones Fraudulentas:</strong> La baja incidencia de transacciones fraudulentas representa un gran desequilibrio de clases. Técnicas de re-muestreo, como SMOTE, y el uso de métricas de evaluación como el F1-score, en lugar de la precisión, serán cruciales para evaluar el rendimiento del modelo.\n",
    "\n",
    "* <strong>Distribución de Tipos de Transacción:</strong> La alta frecuencia de ciertos tipos de transacción (como \"PAYMENT\" y \"CASH_OUT\") indica que el modelo debe ser capaz de identificar patrones de fraude específicos para estos tipos de transacción. La variabilidad en los tipos de transacciones también puede ayudar a mejorar la precisión del modelo al capturar características específicas de cada tipo."
   ]
  }
 ],
 "metadata": {
  "kernelspec": {
   "display_name": "base",
   "language": "python",
   "name": "python3"
  },
  "language_info": {
   "codemirror_mode": {
    "name": "ipython",
    "version": 3
   },
   "file_extension": ".py",
   "mimetype": "text/x-python",
   "name": "python",
   "nbconvert_exporter": "python",
   "pygments_lexer": "ipython3",
   "version": "3.9.-1"
  }
 },
 "nbformat": 4,
 "nbformat_minor": 2
}
